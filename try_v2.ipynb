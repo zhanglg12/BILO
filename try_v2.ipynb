{
 "cells": [
  {
   "cell_type": "code",
   "execution_count": 1,
   "metadata": {},
   "outputs": [
    {
     "name": "stdout",
     "output_type": "stream",
     "text": [
      "Using device: cuda\n"
     ]
    }
   ],
   "source": [
    "import torch\n",
    "import torch.nn as nn\n",
    "import torch.optim as optim\n",
    "from DensePoisson import DensePoisson\n",
    "from util import *\n",
    "# visualize the results\n",
    "import matplotlib.pyplot as plt\n",
    "\n",
    "device = set_device()"
   ]
  },
  {
   "cell_type": "code",
   "execution_count": null,
   "metadata": {},
   "outputs": [],
   "source": [
    "def train_network_init(net, optimizer_net, dataset, opts):\n",
    "    \n",
    "    epoch = 0\n",
    "    u_res_init = net.u_init(dataset['x_res_train']) # initial value of u to help training\n",
    "    while True:\n",
    "        # Zero the gradients\n",
    "        optimizer_net.zero_grad()\n",
    "        \n",
    "        res, res_D, u_pred = net.residual(dataset['x_res_train'], net.D)\n",
    "        # Forward pass\n",
    "        val_loss_res = mse(res)\n",
    "        val_loss_D = mse(res_D)\n",
    "\n",
    "        val_loss_data = mse(u_pred, u_res_init )\n",
    "\n",
    "        \n",
    "        val_loss_total = val_loss_res + val_loss_data + val_loss_D\n",
    "        \n",
    "        # Backward pass\n",
    "        grads_net = torch.autograd.grad(val_loss_total, net.param_net, create_graph=True, allow_unused=True)\n",
    "        \n",
    "        for param, grad in zip(net.param_net, grads_net):\n",
    "            param.grad = grad\n",
    "        \n",
    "        # Step the optimizers\n",
    "        optimizer_net.step()\n",
    "        \n",
    "        # Output loss values up to three significant digits\n",
    "        if epoch % 100 == 0:\n",
    "            print(f'Epoch {epoch}, PDE Loss: {val_loss_res.item():.3g}, Data Loss: {val_loss_data.item():.3g} Total Loss: {val_loss_total.item():.3g} D loss: {val_loss_D.item():.3g} D: {net.D.item():.3g}')\n",
    "\n",
    "        # Termination conditions\n",
    "        if val_loss_total.item() < opts['tolerance'] or epoch >= opts['max_iter']:\n",
    "            break  # Exit the loop if loss is below tolerance or maximum iterations reached\n",
    "        \n",
    "        epoch += 1  # Increment the epoch counter\n",
    "\n"
   ]
  },
  {
   "cell_type": "code",
   "execution_count": 3,
   "metadata": {},
   "outputs": [],
   "source": [
    "D_ext = 2\n",
    "net = DensePoisson(2,64,p=1).to(device)\n",
    "\n",
    "dataset = {}\n",
    "dataset['x_res_train'] = torch.linspace(0, 1, 20).view(-1, 1).to(device)\n",
    "dataset['x_res_train'].requires_grad_(True)\n",
    "\n",
    "optimizer_net = optim.Adam(net.param_net, lr=0.001)  # Exclude D"
   ]
  },
  {
   "cell_type": "code",
   "execution_count": null,
   "metadata": {},
   "outputs": [],
   "source": [
    "\n",
    "\n",
    "# opts for training\n",
    "opts = {\n",
    "    'tolerance': 1e-2,\n",
    "    'max_iter': 100000\n",
    "}\n",
    "\n",
    "train_network_init(net, optimizer_net, dataset, opts)\n",
    "\n"
   ]
  },
  {
   "cell_type": "code",
   "execution_count": null,
   "metadata": {},
   "outputs": [],
   "source": [
    "# Evaluate the trained neural network on a new grid\n",
    "x_test = torch.linspace(0, 1, 50).view(-1, 1).to(device)\n",
    "\n",
    "c = plt.rcParams['axes.prop_cycle'].by_key()['color']\n",
    "\n",
    "u_test = net(x_test)\n",
    "u_init_test = net.u_init(x_test)\n",
    "\n",
    "\n",
    "# plot diffeernt D value\n",
    "Ds = [0.5, 1.0, 1.5, 2.0]\n",
    "fig, ax = plt.subplots()\n",
    "\n",
    "for i in range(len(Ds)):\n",
    "    D = Ds[i]\n",
    "    with torch.no_grad():\n",
    "        net.D.data = torch.tensor([D]).to(device)\n",
    "    u_test = net(x_test)\n",
    "    ax.plot(x_test.cpu().numpy(), u_test.cpu().detach().numpy(), label='NN D = {}'.format(D),color=c[i])\n",
    "\n",
    "    u_exact_test = net.u_exact(x_test, D)\n",
    "    ax.plot(x_test.cpu().numpy(), u_exact_test.cpu().numpy(), label='exact D = {}'.format(D),color=c[i],linestyle='--')\n",
    "# set net.D\n",
    "ax.legend(loc=\"upper right\")\n",
    "\n",
    "\n",
    "# reset D to initial value\n",
    "net.D.data = torch.tensor([net.init_D]).to(device)\n"
   ]
  },
  {
   "cell_type": "code",
   "execution_count": null,
   "metadata": {},
   "outputs": [],
   "source": [
    "torch.save({\n",
    "            'model_state_dict': net.state_dict(),\n",
    "            'optimizer_state_dict': optimizer_net.state_dict(),\n",
    "            }, 'checkpoint.pth')"
   ]
  },
  {
   "cell_type": "code",
   "execution_count": null,
   "metadata": {},
   "outputs": [],
   "source": [
    "checkpoint = torch.load('checkpoint.pth')\n",
    "net.load_state_dict(checkpoint['model_state_dict'])\n",
    "optimizer_net.load_state_dict(checkpoint['optimizer_state_dict'])\n"
   ]
  },
  {
   "cell_type": "code",
   "execution_count": null,
   "metadata": {},
   "outputs": [],
   "source": [
    "def train_network_inverse(net, optimizer_net, optimizer_D, dataset, opts):\n",
    "    \n",
    "    # Training loop\n",
    "    epoch = 0\n",
    "    while True:  # Change to a while loop to allow for early termination\n",
    "        # Zero the gradients\n",
    "        optimizer_net.zero_grad()\n",
    "        optimizer_D.zero_grad()\n",
    "        \n",
    "        # Forward pass\n",
    "        res, res_D, u_pred = net.residual(dataset['x_res_train'], net.D)\n",
    "        # Forward pass\n",
    "        val_loss_res = mse(res)\n",
    "        val_loss_data = mse(u_pred, dataset['u_res_train'])\n",
    "        val_loss_D = mse(res_D)\n",
    "        \n",
    "        val_loss_total = val_loss_res + val_loss_data + val_loss_D\n",
    "\n",
    "        # Backward pass\n",
    "        grads_net = torch.autograd.grad(val_loss_res + val_loss_D, net.param_net, create_graph=True, allow_unused=True)\n",
    "        grads_pdeparam = torch.autograd.grad(val_loss_data, net.param_pde, create_graph=True, allow_unused=True)\n",
    "        \n",
    "        for param, grad in zip(net.param_net, grads_net):\n",
    "            param.grad = grad\n",
    "        \n",
    "        for param, grad in zip(net.param_pde, grads_pdeparam):\n",
    "            param.grad = grad\n",
    "\n",
    "        # Step the optimizers\n",
    "        optimizer_net.step()\n",
    "        optimizer_D.step()\n",
    "\n",
    "        # Output loss values up to three significant digits\n",
    "        if epoch % 100 == 0:\n",
    "            print_statistics(epoch, PDE=val_loss_res.item(), Data=val_loss_data.item(), Dloss=val_loss_D.item(), Total=val_loss_total.item(), D=net.D.item())\n",
    "\n",
    "        # Termination conditions\n",
    "        if val_loss_total.item() < opts['tolerance'] or epoch >= opts['max_iter']:\n",
    "            break  # Exit the loop if loss is below tolerance or maximum iterations reached\n",
    "\n",
    "        epoch += 1  # Increment the epoch counter\n",
    "\n",
    "\n",
    "\n",
    "\n",
    "# set u_res for exact solution\n",
    "Dexact = 2.0\n",
    "dataset['u_res_train'] = net.u_exact(dataset['x_res_train'], Dexact)\n",
    "\n",
    "opts['tolerance'] = 1e-3\n",
    "optimizer_D = optim.Adam(net.param_pde, lr=0.0001)  # Only D\n",
    "\n",
    "train_network_inverse(net, optimizer_net, optimizer_D, dataset, opts)\n"
   ]
  },
  {
   "cell_type": "code",
   "execution_count": null,
   "metadata": {},
   "outputs": [],
   "source": [
    "\n",
    "# Evaluate the trained neural network on a new grid\n",
    "x_test = torch.linspace(0, 1, 100).view(-1, 1).to(device)\n",
    "\n",
    "u_test = net(x_test)\n",
    "u_init_test = net.u_init(x_test)\n",
    "u_exact_test = net.u_exact(x_test, Dexact)\n",
    "\n",
    "\n",
    "# visualize the results\n",
    "plt.figure()\n",
    "\n",
    "plt.plot(x_test.cpu().numpy(), u_test.cpu().detach().numpy(), label='NN',marker='o')\n",
    "plt.plot(x_test.cpu().numpy(), u_init_test.cpu().numpy(), label='init')\n",
    "plt.plot(x_test.cpu().numpy(), u_exact_test.cpu().numpy(), label='exact')\n",
    "plt.legend(loc=\"upper right\")\n"
   ]
  },
  {
   "cell_type": "code",
   "execution_count": 5,
   "metadata": {},
   "outputs": [
    {
     "name": "stdout",
     "output_type": "stream",
     "text": [
      "Epoch 0, PDE: 65.9, Data: 0.227, Total: 66.2, D: 0.999\n",
      "Epoch 100, PDE: 0.116, Data: 0.104, Total: 0.22, D: 1.02\n",
      "Epoch 200, PDE: 0.0118, Data: 0.105, Total: 0.117, D: 1.03\n",
      "Epoch 300, PDE: 0.00146, Data: 0.103, Total: 0.105, D: 1.03\n",
      "Epoch 400, PDE: 0.00103, Data: 0.1, Total: 0.101, D: 1.04\n",
      "Epoch 500, PDE: 0.000991, Data: 0.0972, Total: 0.0982, D: 1.05\n",
      "Epoch 600, PDE: 0.000954, Data: 0.0939, Total: 0.0949, D: 1.05\n",
      "Epoch 700, PDE: 0.000916, Data: 0.0905, Total: 0.0914, D: 1.06\n",
      "Epoch 800, PDE: 0.000877, Data: 0.087, Total: 0.0878, D: 1.07\n",
      "Epoch 900, PDE: 0.000837, Data: 0.0834, Total: 0.0842, D: 1.08\n",
      "Epoch 1000, PDE: 0.000797, Data: 0.0798, Total: 0.0806, D: 1.1\n",
      "Epoch 1100, PDE: 0.000757, Data: 0.0762, Total: 0.0769, D: 1.11\n",
      "Epoch 1200, PDE: 0.000716, Data: 0.0726, Total: 0.0733, D: 1.12\n",
      "Epoch 1300, PDE: 0.000676, Data: 0.0691, Total: 0.0698, D: 1.13\n",
      "Epoch 1400, PDE: 0.000637, Data: 0.0657, Total: 0.0664, D: 1.14\n",
      "Epoch 1500, PDE: 0.000598, Data: 0.0624, Total: 0.063, D: 1.16\n",
      "Epoch 1600, PDE: 0.00056, Data: 0.0592, Total: 0.0598, D: 1.17\n",
      "Epoch 1700, PDE: 0.000523, Data: 0.0561, Total: 0.0566, D: 1.18\n",
      "Epoch 1800, PDE: 0.000487, Data: 0.0531, Total: 0.0536, D: 1.2\n",
      "Epoch 1900, PDE: 0.000452, Data: 0.0502, Total: 0.0507, D: 1.21\n",
      "Epoch 2000, PDE: 0.000418, Data: 0.0474, Total: 0.0479, D: 1.22\n",
      "Epoch 2100, PDE: 0.000385, Data: 0.0448, Total: 0.0452, D: 1.24\n",
      "Epoch 2200, PDE: 0.000354, Data: 0.0422, Total: 0.0426, D: 1.25\n",
      "Epoch 2300, PDE: 0.000324, Data: 0.0398, Total: 0.0401, D: 1.26\n",
      "Epoch 2400, PDE: 0.000296, Data: 0.0375, Total: 0.0378, D: 1.28\n",
      "Epoch 2500, PDE: 0.00027, Data: 0.0353, Total: 0.0356, D: 1.29\n",
      "Epoch 2600, PDE: 0.000245, Data: 0.0332, Total: 0.0334, D: 1.31\n",
      "Epoch 2700, PDE: 0.000222, Data: 0.0312, Total: 0.0314, D: 1.32\n",
      "Epoch 2800, PDE: 0.0002, Data: 0.0293, Total: 0.0295, D: 1.33\n",
      "Epoch 2900, PDE: 0.000181, Data: 0.0275, Total: 0.0277, D: 1.35\n",
      "Epoch 3000, PDE: 0.000163, Data: 0.0258, Total: 0.0259, D: 1.36\n",
      "Epoch 3100, PDE: 0.000147, Data: 0.0241, Total: 0.0243, D: 1.38\n",
      "Epoch 3200, PDE: 0.000132, Data: 0.0226, Total: 0.0227, D: 1.39\n",
      "Epoch 3300, PDE: 0.000119, Data: 0.0211, Total: 0.0212, D: 1.4\n",
      "Epoch 3400, PDE: 0.000108, Data: 0.0197, Total: 0.0199, D: 1.42\n",
      "Epoch 3500, PDE: 9.75e-05, Data: 0.0184, Total: 0.0185, D: 1.43\n",
      "Epoch 3600, PDE: 8.83e-05, Data: 0.0172, Total: 0.0173, D: 1.45\n",
      "Epoch 3700, PDE: 8.01e-05, Data: 0.016, Total: 0.0161, D: 1.46\n",
      "Epoch 3800, PDE: 7.28e-05, Data: 0.0149, Total: 0.015, D: 1.47\n",
      "Epoch 3900, PDE: 6.63e-05, Data: 0.0139, Total: 0.014, D: 1.49\n",
      "Epoch 4000, PDE: 6.05e-05, Data: 0.0129, Total: 0.013, D: 1.5\n",
      "Epoch 4100, PDE: 5.52e-05, Data: 0.012, Total: 0.012, D: 1.52\n",
      "Epoch 4200, PDE: 5.04e-05, Data: 0.0111, Total: 0.0112, D: 1.53\n",
      "Epoch 4300, PDE: 4.61e-05, Data: 0.0103, Total: 0.0103, D: 1.54\n"
     ]
    }
   ],
   "source": [
    "def train_network_vanilla(net, optimizer_full, dataset, opts):\n",
    "    # vanilla version of inverse problem\n",
    "    epoch = 0\n",
    "    u_res_init = net.u_init(dataset['x_res_train']) # initial value of u to help training\n",
    "    while True:\n",
    "        # Zero the gradients\n",
    "        optimizer_full.zero_grad()\n",
    "        \n",
    "        res, res_D, u_pred = net.residual(dataset['x_res_train'], net.D)\n",
    "        # Forward pass\n",
    "        val_loss_res = mse(res)\n",
    "\n",
    "        val_loss_data = mse(u_pred, dataset['u_res_train'] )\n",
    "\n",
    "        val_loss_total = val_loss_res + val_loss_data\n",
    "        \n",
    "        # Backward pass\n",
    "        val_loss_total.backward(retain_graph=True)\n",
    "        \n",
    "        # Step the optimizers\n",
    "        optimizer_full.step()\n",
    "        \n",
    "        # Output loss values up to three significant digits\n",
    "        if epoch % 100 == 0:\n",
    "            print_statistics(epoch, PDE=val_loss_res.item(), Data=val_loss_data.item(), Total=val_loss_total.item(), D=net.D.item())\n",
    "\n",
    "        # Termination conditions\n",
    "        if val_loss_total.item() < opts['tolerance'] or epoch >= opts['max_iter']:\n",
    "            break  # Exit the loop if loss is below tolerance or maximum iterations reached\n",
    "        \n",
    "        epoch += 1  # Increment the epoch counter\n",
    "\n",
    "\n",
    "# opts for training\n",
    "opts = {\n",
    "    'tolerance': 1e-2,\n",
    "    'max_iter': 100000\n",
    "}\n",
    "# set u_res for exact solution\n",
    "Dexact = 2.0\n",
    "dataset['u_res_train'] = net.u_exact(dataset['x_res_train'], Dexact)\n",
    "\n",
    "# valila version\n",
    "simplenet = DensePoisson(2,64, basic=True,p=1).to(device)\n",
    "optimizer_full = optim.Adam(simplenet.parameters(), lr=0.001)  # Only D\n",
    "train_network_vanilla(simplenet, optimizer_full, dataset, opts)\n"
   ]
  },
  {
   "cell_type": "code",
   "execution_count": 10,
   "metadata": {},
   "outputs": [
    {
     "data": {
      "text/plain": [
       "<matplotlib.legend.Legend at 0x7faff6ca7710>"
      ]
     },
     "execution_count": 10,
     "metadata": {},
     "output_type": "execute_result"
    },
    {
     "data": {
      "image/png": "[encoded data removed]",
      "text/plain": [
       "<Figure size 640x480 with 1 Axes>"
      ]
     },
     "metadata": {},
     "output_type": "display_data"
    }
   ],
   "source": [
    "x_test = torch.linspace(0, 1, 100).view(-1, 1).to(device)\n",
    "\n",
    "u_test = simplenet(x_test)\n",
    "u_init_test = net.u_init(x_test)\n",
    "u_exact_test = net.u_exact(x_test, Dexact)\n",
    "\n",
    "plt.figure()\n",
    "\n",
    "plt.plot(x_test.cpu().numpy(), u_test.cpu().detach().numpy(), label='NN',marker='o')\n",
    "plt.plot(x_test.cpu().numpy(), u_init_test.cpu().numpy(), label='init')\n",
    "plt.plot(x_test.cpu().numpy(), u_exact_test.cpu().numpy(), label='exact')\n",
    "plt.legend(loc=\"upper right\")"
   ]
  },
  {
   "cell_type": "code",
   "execution_count": null,
   "metadata": {},
   "outputs": [],
   "source": []
  }
 ],
 "metadata": {
  "kernelspec": {
   "display_name": "torch",
   "language": "python",
   "name": "python3"
  },
  "language_info": {
   "codemirror_mode": {
    "name": "ipython",
    "version": 3
   },
   "file_extension": ".py",
   "mimetype": "text/x-python",
   "name": "python",
   "nbconvert_exporter": "python",
   "pygments_lexer": "ipython3",
   "version": "3.11.5"
  }
 },
 "nbformat": 4,
 "nbformat_minor": 2
}
