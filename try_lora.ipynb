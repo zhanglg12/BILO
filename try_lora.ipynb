{
 "cells": [
  {
   "cell_type": "code",
   "execution_count": 1,
   "metadata": {},
   "outputs": [],
   "source": [
    "# explor low rank structure of PINN\n",
    "%load_ext autoreload\n",
    "%autoreload 2\n",
    "\n",
    "\n",
    "from minlora import add_lora, apply_to_lora, disable_lora, enable_lora, get_lora_params, merge_lora, name_is_lora, remove_lora, load_multiple_lora, select_lora, get_lora_state_dict, add_lora_by_name\n",
    "\n",
    "from matplotlib import pyplot as plt\n"
   ]
  },
  {
   "cell_type": "code",
   "execution_count": 2,
   "metadata": {},
   "outputs": [],
   "source": [
    "from Options import *\n",
    "from DensePoisson import *\n",
    "\n",
    "from Trainer import *\n",
    "from lossCollection import *\n",
    "from Problems import *"
   ]
  },
  {
   "cell_type": "code",
   "execution_count": 23,
   "metadata": {},
   "outputs": [
    {
     "name": "stdout",
     "output_type": "stream",
     "text": [
      "Using Fourier Features\n",
      "net loaded from /home/ziruz16/adjointpinn/mlruns/794851306132481054/3692a202bf9e40899de0c4868b5c23b5/artifacts/net.pth\n"
     ]
    }
   ],
   "source": [
    "\n",
    "exp_name = 'loraseed'\n",
    "name = 'p1D1_s0'\n",
    "model, opt = load_model(exp_name, name)\n",
    "        \n"
   ]
  },
  {
   "cell_type": "code",
   "execution_count": 24,
   "metadata": {},
   "outputs": [
    {
     "name": "stdout",
     "output_type": "stream",
     "text": [
      " DensePoisson(\n",
      "  (fflayer): Linear(in_features=1, out_features=64, bias=True)\n",
      "  (input_layer): Linear(in_features=64, out_features=64, bias=True)\n",
      "  (hidden_layers): ModuleList(\n",
      "    (0-1): 2 x Linear(in_features=64, out_features=64, bias=True)\n",
      "  )\n",
      "  (output_layer): Linear(in_features=64, out_features=1, bias=True)\n",
      "  (fcD): Linear(in_features=1, out_features=64, bias=False)\n",
      ")\n",
      "fflayer Linear(in_features=1, out_features=64, bias=True)\n",
      "input_layer Linear(in_features=64, out_features=64, bias=True)\n",
      "hidden_layers ModuleList(\n",
      "  (0-1): 2 x Linear(in_features=64, out_features=64, bias=True)\n",
      ")\n",
      "hidden_layers.0 Linear(in_features=64, out_features=64, bias=True)\n",
      "hidden_layers.1 Linear(in_features=64, out_features=64, bias=True)\n",
      "output_layer Linear(in_features=64, out_features=1, bias=True)\n",
      "fcD Linear(in_features=1, out_features=64, bias=False)\n"
     ]
    }
   ],
   "source": [
    " for name, layer in model.named_modules():\n",
    "    print(name, layer)"
   ]
  },
  {
   "cell_type": "code",
   "execution_count": 57,
   "metadata": {},
   "outputs": [
    {
     "data": {
      "text/plain": [
       "'file:///home/ziruz16/adjointpinn/mlruns/385015914602905553/b50213130e754b2c961c75098ea54ca3/artifacts'"
      ]
     },
     "execution_count": 57,
     "metadata": {},
     "output_type": "execute_result"
    }
   ],
   "source": [
    "mlflow.get_artifact_uri()"
   ]
  },
  {
   "cell_type": "code",
   "execution_count": 25,
   "metadata": {},
   "outputs": [],
   "source": [
    "# add_lora(model)\n",
    "add_lora_by_name(model, ['input_layer','hidden_layers','output_layer'])\n"
   ]
  },
  {
   "cell_type": "code",
   "execution_count": 26,
   "metadata": {},
   "outputs": [
    {
     "name": "stdout",
     "output_type": "stream",
     "text": [
      " DensePoisson(\n",
      "  (fflayer): Linear(in_features=1, out_features=64, bias=True)\n",
      "  (input_layer): ParametrizedLinear(\n",
      "    in_features=64, out_features=64, bias=True\n",
      "    (parametrizations): ModuleDict(\n",
      "      (weight): ParametrizationList(\n",
      "        (0): LoRAParametrization()\n",
      "      )\n",
      "    )\n",
      "  )\n",
      "  (hidden_layers): ModuleList(\n",
      "    (0-1): 2 x ParametrizedLinear(\n",
      "      in_features=64, out_features=64, bias=True\n",
      "      (parametrizations): ModuleDict(\n",
      "        (weight): ParametrizationList(\n",
      "          (0): LoRAParametrization()\n",
      "        )\n",
      "      )\n",
      "    )\n",
      "  )\n",
      "  (output_layer): ParametrizedLinear(\n",
      "    in_features=64, out_features=1, bias=True\n",
      "    (parametrizations): ModuleDict(\n",
      "      (weight): ParametrizationList(\n",
      "        (0): LoRAParametrization()\n",
      "      )\n",
      "    )\n",
      "  )\n",
      "  (fcD): Linear(in_features=1, out_features=64, bias=False)\n",
      ")\n",
      "fflayer Linear(in_features=1, out_features=64, bias=True)\n",
      "input_layer ParametrizedLinear(\n",
      "  in_features=64, out_features=64, bias=True\n",
      "  (parametrizations): ModuleDict(\n",
      "    (weight): ParametrizationList(\n",
      "      (0): LoRAParametrization()\n",
      "    )\n",
      "  )\n",
      ")\n",
      "input_layer.parametrizations ModuleDict(\n",
      "  (weight): ParametrizationList(\n",
      "    (0): LoRAParametrization()\n",
      "  )\n",
      ")\n",
      "input_layer.parametrizations.weight ParametrizationList(\n",
      "  (0): LoRAParametrization()\n",
      ")\n",
      "input_layer.parametrizations.weight.0 LoRAParametrization()\n",
      "hidden_layers ModuleList(\n",
      "  (0-1): 2 x ParametrizedLinear(\n",
      "    in_features=64, out_features=64, bias=True\n",
      "    (parametrizations): ModuleDict(\n",
      "      (weight): ParametrizationList(\n",
      "        (0): LoRAParametrization()\n",
      "      )\n",
      "    )\n",
      "  )\n",
      ")\n",
      "hidden_layers.0 ParametrizedLinear(\n",
      "  in_features=64, out_features=64, bias=True\n",
      "  (parametrizations): ModuleDict(\n",
      "    (weight): ParametrizationList(\n",
      "      (0): LoRAParametrization()\n",
      "    )\n",
      "  )\n",
      ")\n",
      "hidden_layers.0.parametrizations ModuleDict(\n",
      "  (weight): ParametrizationList(\n",
      "    (0): LoRAParametrization()\n",
      "  )\n",
      ")\n",
      "hidden_layers.0.parametrizations.weight ParametrizationList(\n",
      "  (0): LoRAParametrization()\n",
      ")\n",
      "hidden_layers.0.parametrizations.weight.0 LoRAParametrization()\n",
      "hidden_layers.1 ParametrizedLinear(\n",
      "  in_features=64, out_features=64, bias=True\n",
      "  (parametrizations): ModuleDict(\n",
      "    (weight): ParametrizationList(\n",
      "      (0): LoRAParametrization()\n",
      "    )\n",
      "  )\n",
      ")\n",
      "hidden_layers.1.parametrizations ModuleDict(\n",
      "  (weight): ParametrizationList(\n",
      "    (0): LoRAParametrization()\n",
      "  )\n",
      ")\n",
      "hidden_layers.1.parametrizations.weight ParametrizationList(\n",
      "  (0): LoRAParametrization()\n",
      ")\n",
      "hidden_layers.1.parametrizations.weight.0 LoRAParametrization()\n",
      "output_layer ParametrizedLinear(\n",
      "  in_features=64, out_features=1, bias=True\n",
      "  (parametrizations): ModuleDict(\n",
      "    (weight): ParametrizationList(\n",
      "      (0): LoRAParametrization()\n",
      "    )\n",
      "  )\n",
      ")\n",
      "output_layer.parametrizations ModuleDict(\n",
      "  (weight): ParametrizationList(\n",
      "    (0): LoRAParametrization()\n",
      "  )\n",
      ")\n",
      "output_layer.parametrizations.weight ParametrizationList(\n",
      "  (0): LoRAParametrization()\n",
      ")\n",
      "output_layer.parametrizations.weight.0 LoRAParametrization()\n",
      "fcD Linear(in_features=1, out_features=64, bias=False)\n"
     ]
    }
   ],
   "source": [
    " for name, layer in model.named_modules():\n",
    "    print(name, layer)"
   ]
  },
  {
   "cell_type": "code",
   "execution_count": 27,
   "metadata": {},
   "outputs": [
    {
     "name": "stdout",
     "output_type": "stream",
     "text": [
      "No noise added\n"
     ]
    }
   ],
   "source": [
    "pde_opts = {\n",
    "        'problem': 'PoissonProblem',\n",
    "        'p': 2,\n",
    "        'exact_D': 1.0,\n",
    "        'init_D': 1.0,\n",
    "    }\n",
    "pde = create_pde_problem(**pde_opts)\n",
    "optobj = Options()\n",
    "\n",
    "\n",
    "dataset = setup_dataset(pde, 'forward', {'use_noise':False}, optobj.opts['dataset_opts'])"
   ]
  },
  {
   "cell_type": "code",
   "execution_count": 28,
   "metadata": {},
   "outputs": [],
   "source": [
    "loss_pde_opts = {'weights':{'res':optobj.opts['weights']['res'],'data':optobj.opts['weights']['data']}}\n",
    "lc = {}\n",
    "lc['forward'] = lossCollection(model, pde, dataset, list(get_lora_params(model)), optim.Adam, loss_pde_opts)"
   ]
  },
  {
   "cell_type": "code",
   "execution_count": 29,
   "metadata": {},
   "outputs": [],
   "source": [
    "dataset['x_res_train'].requires_grad = True"
   ]
  },
  {
   "cell_type": "code",
   "execution_count": 31,
   "metadata": {},
   "outputs": [
    {
     "name": "stdout",
     "output_type": "stream",
     "text": [
      "Current tracking uri: file:///home/ziruz16/adjointpinn/mlruns\n"
     ]
    }
   ],
   "source": [
    "estop = EarlyStopping(**optobj.opts['train_opts'])\n",
    "optsobj = Options()\n",
    "optobj.opts['train_opts']['tolerance'] = 1e-3\n",
    "\n",
    "trainer = Trainer(optsobj.opts, model, pde, dataset, lc)\n",
    "trainer.setup_mlflow()\n"
   ]
  },
  {
   "cell_type": "code",
   "execution_count": 32,
   "metadata": {},
   "outputs": [
    {
     "name": "stdout",
     "output_type": "stream",
     "text": [
      "Epoch 0, res: 820, data: 0.99, total: 821, D: 1\n",
      "Epoch 20, res: 817, data: 0.979, total: 818, D: 1\n",
      "Epoch 40, res: 808, data: 0.943, total: 809, D: 1\n",
      "Epoch 60, res: 791, data: 0.874, total: 792, D: 1\n",
      "Epoch 80, res: 764, data: 0.774, total: 765, D: 1\n",
      "Epoch 100, res: 729, data: 0.67, total: 730, D: 1\n",
      "Epoch 120, res: 684, data: 0.601, total: 685, D: 1\n",
      "Epoch 140, res: 622, data: 0.547, total: 623, D: 1\n",
      "Epoch 160, res: 546, data: 0.478, total: 546, D: 1\n",
      "Epoch 180, res: 467, data: 0.397, total: 468, D: 1\n",
      "Epoch 200, res: 390, data: 0.329, total: 390, D: 1\n",
      "Epoch 220, res: 298, data: 0.287, total: 298, D: 1\n",
      "Epoch 240, res: 203, data: 0.245, total: 204, D: 1\n",
      "Epoch 260, res: 130, data: 0.207, total: 130, D: 1\n",
      "Epoch 280, res: 80.8, data: 0.182, total: 81, D: 1\n",
      "Epoch 300, res: 50.5, data: 0.153, total: 50.6, D: 1\n",
      "Epoch 320, res: 32.5, data: 0.125, total: 32.6, D: 1\n",
      "Epoch 340, res: 21.9, data: 0.0952, total: 22, D: 1\n",
      "Epoch 360, res: 15.3, data: 0.07, total: 15.3, D: 1\n",
      "Epoch 380, res: 10.9, data: 0.0504, total: 11, D: 1\n",
      "Epoch 400, res: 7.87, data: 0.0358, total: 7.91, D: 1\n",
      "Epoch 420, res: 5.7, data: 0.0253, total: 5.73, D: 1\n",
      "Epoch 440, res: 4.15, data: 0.0179, total: 4.17, D: 1\n",
      "Epoch 460, res: 3.06, data: 0.0125, total: 3.07, D: 1\n",
      "Epoch 480, res: 2.28, data: 0.0087, total: 2.29, D: 1\n",
      "Epoch 500, res: 1.72, data: 0.00599, total: 1.72, D: 1\n",
      "Epoch 520, res: 1.31, data: 0.0041, total: 1.31, D: 1\n",
      "Epoch 540, res: 1, data: 0.00279, total: 1, D: 1\n",
      "Epoch 560, res: 0.774, data: 0.00189, total: 0.776, D: 1\n",
      "Epoch 580, res: 0.604, data: 0.00127, total: 0.605, D: 1\n",
      "Epoch 600, res: 0.477, data: 0.000853, total: 0.478, D: 1\n",
      "Epoch 620, res: 0.383, data: 0.000566, total: 0.384, D: 1\n",
      "Epoch 640, res: 0.314, data: 0.000372, total: 0.314, D: 1\n",
      "Epoch 660, res: 0.263, data: 0.000242, total: 0.263, D: 1\n",
      "Epoch 680, res: 0.224, data: 0.000156, total: 0.224, D: 1\n",
      "Epoch 700, res: 0.195, data: 0.0001, total: 0.195, D: 1\n",
      "Epoch 720, res: 0.173, data: 6.39e-05, total: 0.173, D: 1\n",
      "Epoch 740, res: 0.155, data: 4.07e-05, total: 0.155, D: 1\n",
      "Epoch 760, res: 0.141, data: 2.59e-05, total: 0.141, D: 1\n",
      "Epoch 780, res: 0.129, data: 1.66e-05, total: 0.129, D: 1\n",
      "Epoch 800, res: 0.12, data: 1.07e-05, total: 0.12, D: 1\n",
      "Epoch 820, res: 0.112, data: 7.01e-06, total: 0.112, D: 1\n",
      "Epoch 840, res: 0.105, data: 4.63e-06, total: 0.105, D: 1\n",
      "Epoch 860, res: 0.0995, data: 3.11e-06, total: 0.0995, D: 1\n",
      "Epoch 880, res: 0.0946, data: 2.11e-06, total: 0.0946, D: 1\n",
      "Epoch 900, res: 0.0904, data: 1.46e-06, total: 0.0904, D: 1\n",
      "Epoch 920, res: 0.0868, data: 1.02e-06, total: 0.0868, D: 1\n",
      "Epoch 940, res: 0.0837, data: 7.25e-07, total: 0.0837, D: 1\n",
      "Epoch 960, res: 0.081, data: 5.22e-07, total: 0.081, D: 1\n",
      "Epoch 980, res: 0.0786, data: 3.8e-07, total: 0.0786, D: 1\n",
      "Epoch 1000, res: 0.0765, data: 2.81e-07, total: 0.0765, D: 1\n",
      "Epoch 1020, res: 0.0746, data: 2.1e-07, total: 0.0746, D: 1\n",
      "Epoch 1040, res: 0.073, data: 1.59e-07, total: 0.073, D: 1\n",
      "Epoch 1060, res: 0.0714, data: 1.23e-07, total: 0.0714, D: 1\n",
      "Epoch 1080, res: 0.07, data: 9.68e-08, total: 0.07, D: 1\n",
      "Epoch 1100, res: 0.0688, data: 7.78e-08, total: 0.0688, D: 1\n",
      "Epoch 1120, res: 0.0676, data: 6.4e-08, total: 0.0676, D: 1\n",
      "Epoch 1140, res: 0.0665, data: 5.41e-08, total: 0.0665, D: 1\n",
      "Epoch 1160, res: 0.0654, data: 4.68e-08, total: 0.0654, D: 1\n",
      "Epoch 1180, res: 0.0644, data: 4.16e-08, total: 0.0644, D: 1\n",
      "Epoch 1200, res: 0.0635, data: 3.79e-08, total: 0.0635, D: 1\n",
      "Epoch 1220, res: 0.0625, data: 3.52e-08, total: 0.0625, D: 1\n",
      "Epoch 1240, res: 0.0617, data: 3.33e-08, total: 0.0617, D: 1\n",
      "Epoch 1260, res: 0.0608, data: 3.19e-08, total: 0.0608, D: 1\n",
      "Epoch 1280, res: 0.06, data: 3.1e-08, total: 0.06, D: 1\n",
      "Epoch 1300, res: 0.0591, data: 3.04e-08, total: 0.0591, D: 1\n",
      "Epoch 1320, res: 0.0583, data: 2.99e-08, total: 0.0583, D: 1\n",
      "Epoch 1340, res: 0.0576, data: 2.96e-08, total: 0.0576, D: 1\n",
      "Epoch 1360, res: 0.0568, data: 2.94e-08, total: 0.0568, D: 1\n",
      "Epoch 1380, res: 0.056, data: 2.92e-08, total: 0.056, D: 1\n",
      "Epoch 1400, res: 0.0553, data: 2.91e-08, total: 0.0553, D: 1\n",
      "Epoch 1420, res: 0.0545, data: 2.9e-08, total: 0.0545, D: 1\n",
      "Epoch 1440, res: 0.0538, data: 2.89e-08, total: 0.0538, D: 1\n",
      "Epoch 1460, res: 0.053, data: 2.88e-08, total: 0.053, D: 1\n",
      "Epoch 1480, res: 0.0523, data: 2.87e-08, total: 0.0523, D: 1\n",
      "Epoch 1500, res: 0.0516, data: 2.86e-08, total: 0.0516, D: 1\n",
      "Epoch 1520, res: 0.0508, data: 2.84e-08, total: 0.0508, D: 1\n",
      "Epoch 1540, res: 0.0501, data: 2.83e-08, total: 0.0501, D: 1\n",
      "Epoch 1560, res: 0.0494, data: 2.81e-08, total: 0.0494, D: 1\n",
      "Epoch 1580, res: 0.0487, data: 2.79e-08, total: 0.0487, D: 1\n",
      "Epoch 1600, res: 0.048, data: 2.77e-08, total: 0.048, D: 1\n",
      "Epoch 1620, res: 0.0473, data: 2.74e-08, total: 0.0473, D: 1\n",
      "Epoch 1640, res: 0.0466, data: 2.71e-08, total: 0.0466, D: 1\n",
      "Epoch 1660, res: 0.0459, data: 2.68e-08, total: 0.0459, D: 1\n",
      "Epoch 1680, res: 0.0452, data: 2.65e-08, total: 0.0452, D: 1\n",
      "Epoch 1700, res: 0.0445, data: 2.62e-08, total: 0.0445, D: 1\n",
      "Epoch 1720, res: 0.0438, data: 2.58e-08, total: 0.0438, D: 1\n",
      "Epoch 1740, res: 0.0432, data: 2.54e-08, total: 0.0432, D: 1\n",
      "Epoch 1760, res: 0.0425, data: 2.5e-08, total: 0.0425, D: 1\n",
      "Epoch 1780, res: 0.0418, data: 2.46e-08, total: 0.0418, D: 1\n",
      "Epoch 1800, res: 0.0411, data: 2.43e-08, total: 0.0411, D: 1\n",
      "Epoch 1820, res: 0.0405, data: 2.38e-08, total: 0.0405, D: 1\n",
      "Epoch 1840, res: 0.0398, data: 2.34e-08, total: 0.0398, D: 1\n",
      "Epoch 1860, res: 0.0392, data: 2.3e-08, total: 0.0392, D: 1\n",
      "Epoch 1880, res: 0.0385, data: 2.25e-08, total: 0.0385, D: 1\n",
      "Epoch 1900, res: 0.0379, data: 2.2e-08, total: 0.0379, D: 1\n",
      "Epoch 1920, res: 0.0372, data: 2.15e-08, total: 0.0372, D: 1\n",
      "Epoch 1940, res: 0.0366, data: 2.11e-08, total: 0.0366, D: 1\n",
      "Epoch 1960, res: 0.0359, data: 2.06e-08, total: 0.0359, D: 1\n",
      "Epoch 1980, res: 0.0353, data: 2.02e-08, total: 0.0353, D: 1\n",
      "Epoch 2000, res: 0.0347, data: 1.97e-08, total: 0.0347, D: 1\n",
      "Epoch 2020, res: 0.0341, data: 1.92e-08, total: 0.0341, D: 1\n",
      "Epoch 2040, res: 0.0335, data: 1.88e-08, total: 0.0335, D: 1\n",
      "Epoch 2060, res: 0.0328, data: 1.83e-08, total: 0.0328, D: 1\n",
      "Epoch 2080, res: 0.0322, data: 1.78e-08, total: 0.0322, D: 1\n",
      "Epoch 2100, res: 0.0316, data: 1.73e-08, total: 0.0316, D: 1\n",
      "Epoch 2120, res: 0.031, data: 1.68e-08, total: 0.031, D: 1\n",
      "Epoch 2140, res: 0.0305, data: 1.64e-08, total: 0.0305, D: 1\n",
      "Epoch 2160, res: 0.0299, data: 1.59e-08, total: 0.0299, D: 1\n",
      "Epoch 2180, res: 0.0293, data: 1.54e-08, total: 0.0293, D: 1\n",
      "Epoch 2200, res: 0.0287, data: 1.5e-08, total: 0.0287, D: 1\n",
      "Epoch 2220, res: 0.0282, data: 1.45e-08, total: 0.0282, D: 1\n",
      "Epoch 2240, res: 0.0276, data: 1.41e-08, total: 0.0276, D: 1\n",
      "Epoch 2260, res: 0.0271, data: 1.36e-08, total: 0.0271, D: 1\n",
      "Epoch 2280, res: 0.0265, data: 1.32e-08, total: 0.0265, D: 1\n",
      "Epoch 2300, res: 0.026, data: 1.28e-08, total: 0.026, D: 1\n",
      "Epoch 2320, res: 0.0255, data: 1.24e-08, total: 0.0255, D: 1\n",
      "Epoch 2340, res: 0.0249, data: 1.2e-08, total: 0.0249, D: 1\n",
      "Epoch 2360, res: 0.0244, data: 1.16e-08, total: 0.0244, D: 1\n",
      "Epoch 2380, res: 0.0239, data: 1.13e-08, total: 0.0239, D: 1\n",
      "Epoch 2400, res: 0.0234, data: 1.09e-08, total: 0.0234, D: 1\n",
      "Epoch 2420, res: 0.0229, data: 1.05e-08, total: 0.0229, D: 1\n",
      "Epoch 2440, res: 0.0225, data: 1.02e-08, total: 0.0225, D: 1\n",
      "Epoch 2460, res: 0.022, data: 9.84e-09, total: 0.022, D: 1\n",
      "Epoch 2480, res: 0.0215, data: 9.51e-09, total: 0.0215, D: 1\n",
      "Epoch 2500, res: 0.0211, data: 9.18e-09, total: 0.0211, D: 1\n",
      "Epoch 2520, res: 0.0206, data: 8.86e-09, total: 0.0206, D: 1\n",
      "Epoch 2540, res: 0.0202, data: 8.54e-09, total: 0.0202, D: 1\n",
      "Epoch 2560, res: 0.0198, data: 8.25e-09, total: 0.0198, D: 1\n",
      "Epoch 2580, res: 0.0194, data: 7.95e-09, total: 0.0194, D: 1\n",
      "Epoch 2600, res: 0.0189, data: 7.65e-09, total: 0.0189, D: 1\n",
      "Epoch 2620, res: 0.0185, data: 7.36e-09, total: 0.0185, D: 1\n",
      "Epoch 2640, res: 0.0181, data: 7.09e-09, total: 0.0181, D: 1\n",
      "Epoch 2660, res: 0.0178, data: 6.83e-09, total: 0.0178, D: 1\n",
      "Epoch 2680, res: 0.0174, data: 6.58e-09, total: 0.0174, D: 1\n",
      "Epoch 2700, res: 0.017, data: 6.33e-09, total: 0.017, D: 1\n",
      "Epoch 2720, res: 0.0167, data: 6.1e-09, total: 0.0167, D: 1\n",
      "Epoch 2740, res: 0.0163, data: 5.88e-09, total: 0.0163, D: 1\n",
      "Epoch 2760, res: 0.016, data: 5.66e-09, total: 0.016, D: 1\n",
      "Epoch 2780, res: 0.0156, data: 5.44e-09, total: 0.0156, D: 1\n",
      "Epoch 2800, res: 0.0153, data: 5.24e-09, total: 0.0153, D: 1\n",
      "Epoch 2820, res: 0.015, data: 5.04e-09, total: 0.015, D: 1\n",
      "Epoch 2840, res: 0.0147, data: 4.85e-09, total: 0.0147, D: 1\n",
      "Epoch 2860, res: 0.0144, data: 4.66e-09, total: 0.0144, D: 1\n",
      "Epoch 2880, res: 0.0141, data: 4.49e-09, total: 0.0141, D: 1\n",
      "Epoch 2900, res: 0.0138, data: 4.33e-09, total: 0.0138, D: 1\n",
      "Epoch 2920, res: 0.0136, data: 4.17e-09, total: 0.0136, D: 1\n",
      "Epoch 2940, res: 0.0133, data: 4.01e-09, total: 0.0133, D: 1\n",
      "Epoch 2960, res: 0.013, data: 3.87e-09, total: 0.013, D: 1\n",
      "Epoch 2980, res: 0.0128, data: 3.73e-09, total: 0.0128, D: 1\n",
      "Epoch 3000, res: 0.0125, data: 3.6e-09, total: 0.0125, D: 1\n",
      "Epoch 3020, res: 0.0123, data: 3.47e-09, total: 0.0123, D: 1\n",
      "Epoch 3040, res: 0.0121, data: 3.35e-09, total: 0.0121, D: 1\n",
      "Epoch 3060, res: 0.0118, data: 3.24e-09, total: 0.0118, D: 1\n",
      "Epoch 3080, res: 0.0116, data: 3.13e-09, total: 0.0116, D: 1\n",
      "Epoch 3100, res: 0.0114, data: 3.02e-09, total: 0.0114, D: 1\n",
      "Epoch 3120, res: 0.0112, data: 2.92e-09, total: 0.0112, D: 1\n",
      "Epoch 3140, res: 0.011, data: 2.83e-09, total: 0.011, D: 1\n",
      "Epoch 3160, res: 0.0108, data: 2.74e-09, total: 0.0108, D: 1\n",
      "Epoch 3180, res: 0.0106, data: 2.66e-09, total: 0.0106, D: 1\n",
      "Epoch 3200, res: 0.0104, data: 2.58e-09, total: 0.0104, D: 1\n",
      "Epoch 3220, res: 0.0103, data: 2.5e-09, total: 0.0103, D: 1\n",
      "Epoch 3240, res: 0.0101, data: 2.43e-09, total: 0.0101, D: 1\n",
      "Epoch 3260, res: 0.00992, data: 2.36e-09, total: 0.00992, D: 1\n",
      "Epoch 3280, res: 0.00975, data: 2.3e-09, total: 0.00975, D: 1\n",
      "Epoch 3300, res: 0.00959, data: 2.23e-09, total: 0.00959, D: 1\n",
      "Epoch 3320, res: 0.00943, data: 2.18e-09, total: 0.00943, D: 1\n",
      "Epoch 3340, res: 0.00928, data: 2.12e-09, total: 0.00928, D: 1\n",
      "Epoch 3360, res: 0.00913, data: 2.07e-09, total: 0.00913, D: 1\n",
      "Epoch 3380, res: 0.00898, data: 2.02e-09, total: 0.00898, D: 1\n",
      "Epoch 3400, res: 0.00884, data: 1.97e-09, total: 0.00884, D: 1\n",
      "Epoch 3420, res: 0.0087, data: 1.92e-09, total: 0.0087, D: 1\n",
      "Epoch 3440, res: 0.00856, data: 1.87e-09, total: 0.00856, D: 1\n",
      "Epoch 3460, res: 0.00843, data: 1.83e-09, total: 0.00843, D: 1\n",
      "Epoch 3480, res: 0.00829, data: 1.79e-09, total: 0.00829, D: 1\n",
      "Epoch 3500, res: 0.00816, data: 1.76e-09, total: 0.00816, D: 1\n",
      "Epoch 3520, res: 0.00804, data: 1.72e-09, total: 0.00804, D: 1\n",
      "Epoch 3540, res: 0.00791, data: 1.68e-09, total: 0.00791, D: 1\n",
      "Epoch 3560, res: 0.00779, data: 1.64e-09, total: 0.00779, D: 1\n",
      "Epoch 3580, res: 0.00767, data: 1.61e-09, total: 0.00767, D: 1\n",
      "Epoch 3600, res: 0.00755, data: 1.58e-09, total: 0.00755, D: 1\n",
      "Epoch 3620, res: 0.00744, data: 1.55e-09, total: 0.00744, D: 1\n",
      "Epoch 3640, res: 0.00732, data: 1.52e-09, total: 0.00732, D: 1\n",
      "Epoch 3660, res: 0.00721, data: 1.49e-09, total: 0.00721, D: 1\n",
      "Epoch 3680, res: 0.0071, data: 1.46e-09, total: 0.0071, D: 1\n",
      "Epoch 3700, res: 0.00699, data: 1.43e-09, total: 0.00699, D: 1\n",
      "Epoch 3720, res: 0.00688, data: 1.4e-09, total: 0.00688, D: 1\n",
      "Epoch 3740, res: 0.00677, data: 1.38e-09, total: 0.00677, D: 1\n",
      "Epoch 3760, res: 0.00667, data: 1.35e-09, total: 0.00667, D: 1\n",
      "Epoch 3780, res: 0.00657, data: 1.32e-09, total: 0.00657, D: 1\n",
      "Epoch 3800, res: 0.00646, data: 1.3e-09, total: 0.00646, D: 1\n",
      "Epoch 3820, res: 0.00636, data: 1.27e-09, total: 0.00636, D: 1\n",
      "Epoch 3840, res: 0.00626, data: 1.25e-09, total: 0.00626, D: 1\n",
      "Epoch 3860, res: 0.00617, data: 1.23e-09, total: 0.00617, D: 1\n",
      "Epoch 3880, res: 0.00607, data: 1.2e-09, total: 0.00607, D: 1\n",
      "Epoch 3900, res: 0.00597, data: 1.18e-09, total: 0.00597, D: 1\n",
      "Epoch 3920, res: 0.00588, data: 1.16e-09, total: 0.00588, D: 1\n",
      "Epoch 3940, res: 0.00579, data: 1.14e-09, total: 0.00579, D: 1\n",
      "Epoch 3960, res: 0.00569, data: 1.12e-09, total: 0.00569, D: 1\n",
      "Epoch 3980, res: 0.0056, data: 1.1e-09, total: 0.0056, D: 1\n",
      "Epoch 4000, res: 0.00551, data: 1.07e-09, total: 0.00551, D: 1\n",
      "Epoch 4020, res: 0.00542, data: 1.05e-09, total: 0.00542, D: 1\n",
      "Epoch 4040, res: 0.00534, data: 1.03e-09, total: 0.00534, D: 1\n",
      "Epoch 4060, res: 0.00525, data: 1.01e-09, total: 0.00525, D: 1\n",
      "Epoch 4080, res: 0.00516, data: 9.88e-10, total: 0.00516, D: 1\n",
      "Epoch 4100, res: 0.00508, data: 9.72e-10, total: 0.00508, D: 1\n",
      "Epoch 4120, res: 0.00499, data: 9.5e-10, total: 0.00499, D: 1\n",
      "Epoch 4140, res: 0.00491, data: 9.34e-10, total: 0.00491, D: 1\n",
      "Epoch 4160, res: 0.00483, data: 9.19e-10, total: 0.00483, D: 1\n",
      "Epoch 4180, res: 0.00475, data: 9.06e-10, total: 0.00475, D: 1\n",
      "Epoch 4200, res: 0.00467, data: 8.82e-10, total: 0.00467, D: 1\n",
      "Epoch 4220, res: 0.00459, data: 8.66e-10, total: 0.00459, D: 1\n",
      "Epoch 4240, res: 0.00451, data: 8.54e-10, total: 0.00451, D: 1\n",
      "Epoch 4260, res: 0.00443, data: 8.38e-10, total: 0.00443, D: 1\n",
      "Epoch 4280, res: 0.00436, data: 8.21e-10, total: 0.00436, D: 1\n",
      "Epoch 4300, res: 0.00428, data: 8.05e-10, total: 0.00428, D: 1\n",
      "Epoch 4320, res: 0.00421, data: 7.86e-10, total: 0.00421, D: 1\n",
      "Epoch 4340, res: 0.00413, data: 7.63e-10, total: 0.00413, D: 1\n",
      "Epoch 4360, res: 0.00406, data: 7.5e-10, total: 0.00406, D: 1\n",
      "Epoch 4380, res: 0.00399, data: 7.35e-10, total: 0.00399, D: 1\n",
      "Epoch 4400, res: 0.00392, data: 7.11e-10, total: 0.00392, D: 1\n",
      "Epoch 4420, res: 0.00385, data: 7.12e-10, total: 0.00385, D: 1\n",
      "Epoch 4440, res: 0.00378, data: 6.98e-10, total: 0.00378, D: 1\n",
      "Epoch 4460, res: 0.00371, data: 6.67e-10, total: 0.00371, D: 1\n",
      "Epoch 4480, res: 0.00365, data: 7.1e-10, total: 0.00365, D: 1\n",
      "Epoch 4500, res: 0.00358, data: 6.87e-10, total: 0.00358, D: 1\n",
      "Epoch 4520, res: 0.00352, data: 5.16e-09, total: 0.00352, D: 1\n",
      "Epoch 4540, res: 0.0075, data: 3.55e-06, total: 0.0075, D: 1\n",
      "Epoch 4560, res: 0.00341, data: 1.12e-08, total: 0.00341, D: 1\n",
      "Epoch 4580, res: 0.0034, data: 5.38e-08, total: 0.0034, D: 1\n",
      "Epoch 4600, res: 0.00328, data: 1.36e-08, total: 0.00328, D: 1\n",
      "Epoch 4620, res: 0.00321, data: 1.17e-09, total: 0.00321, D: 1\n",
      "Epoch 4640, res: 0.00315, data: 5.63e-10, total: 0.00315, D: 1\n",
      "Epoch 4660, res: 0.00309, data: 6.6e-10, total: 0.00309, D: 1\n",
      "Epoch 4680, res: 0.00304, data: 5.65e-10, total: 0.00304, D: 1\n",
      "Epoch 4700, res: 0.00298, data: 5.24e-10, total: 0.00298, D: 1\n",
      "Epoch 4720, res: 0.00293, data: 5.3e-10, total: 0.00293, D: 1\n",
      "Epoch 4740, res: 0.00287, data: 4.6e-10, total: 0.00287, D: 1\n",
      "Epoch 4760, res: 0.00285, data: 2.74e-08, total: 0.00285, D: 1\n",
      "Epoch 4780, res: 0.00716, data: 3.91e-06, total: 0.00716, D: 1\n",
      "Epoch 4800, res: 0.00289, data: 1.51e-07, total: 0.00289, D: 1\n",
      "Epoch 4820, res: 0.00271, data: 3.77e-08, total: 0.00271, D: 1\n",
      "Epoch 4840, res: 0.00262, data: 1.15e-08, total: 0.00262, D: 1\n",
      "Epoch 4860, res: 0.00257, data: 9.92e-10, total: 0.00257, D: 1\n",
      "Epoch 4880, res: 0.00252, data: 6.96e-10, total: 0.00252, D: 1\n",
      "Epoch 4900, res: 0.00247, data: 5.13e-10, total: 0.00247, D: 1\n",
      "Epoch 4920, res: 0.00243, data: 4.51e-10, total: 0.00243, D: 1\n",
      "Epoch 4940, res: 0.00238, data: 4.14e-10, total: 0.00238, D: 1\n",
      "Epoch 4960, res: 0.00234, data: 3.9e-10, total: 0.00234, D: 1\n",
      "Epoch 4980, res: 0.00229, data: 4.36e-10, total: 0.00229, D: 1\n",
      "Epoch 5000, res: 0.00225, data: 4.15e-09, total: 0.00225, D: 1\n",
      "Epoch 5020, res: 0.0144, data: 1.07e-05, total: 0.0144, D: 1\n",
      "Epoch 5040, res: 0.00276, data: 5.07e-07, total: 0.00276, D: 1\n",
      "Epoch 5060, res: 0.0022, data: 6.64e-08, total: 0.0022, D: 1\n",
      "Epoch 5080, res: 0.00211, data: 2.15e-08, total: 0.00211, D: 1\n",
      "Epoch 5100, res: 0.00205, data: 1.73e-09, total: 0.00205, D: 1\n",
      "Epoch 5120, res: 0.00201, data: 9.69e-10, total: 0.00201, D: 1\n",
      "Epoch 5140, res: 0.00197, data: 3.58e-10, total: 0.00197, D: 1\n",
      "Epoch 5160, res: 0.00193, data: 2.94e-10, total: 0.00193, D: 1\n",
      "Epoch 5180, res: 0.0019, data: 3.11e-10, total: 0.0019, D: 1\n",
      "Epoch 5200, res: 0.00186, data: 2.87e-10, total: 0.00186, D: 1\n",
      "Epoch 5220, res: 0.00183, data: 2.78e-10, total: 0.00183, D: 1\n",
      "Epoch 5240, res: 0.00179, data: 2.61e-10, total: 0.00179, D: 1\n",
      "Epoch 5260, res: 0.00409, data: 2.03e-06, total: 0.00409, D: 1\n",
      "Epoch 5280, res: 0.00296, data: 1.06e-06, total: 0.00296, D: 1\n",
      "Epoch 5300, res: 0.002, data: 2.68e-07, total: 0.00201, D: 1\n",
      "Epoch 5320, res: 0.00167, data: 7.76e-09, total: 0.00167, D: 1\n",
      "Epoch 5340, res: 0.00164, data: 1.78e-09, total: 0.00164, D: 1\n",
      "Epoch 5360, res: 0.00161, data: 2.12e-10, total: 0.00161, D: 1\n",
      "Epoch 5380, res: 0.00158, data: 2.07e-10, total: 0.00158, D: 1\n",
      "Epoch 5400, res: 0.00155, data: 2.94e-10, total: 0.00155, D: 1\n",
      "Epoch 5420, res: 0.00152, data: 2.54e-10, total: 0.00152, D: 1\n",
      "Epoch 5440, res: 0.00149, data: 2.24e-10, total: 0.00149, D: 1\n",
      "Epoch 5460, res: 0.00146, data: 2.1e-10, total: 0.00146, D: 1\n",
      "Epoch 5480, res: 0.00144, data: 1.86e-10, total: 0.00144, D: 1\n",
      "Epoch 5500, res: 0.00141, data: 1.58e-09, total: 0.00141, D: 1\n",
      "Epoch 5520, res: 0.0161, data: 1.3e-05, total: 0.0161, D: 1\n",
      "Epoch 5540, res: 0.00297, data: 1.45e-06, total: 0.00297, D: 1\n",
      "Epoch 5560, res: 0.00137, data: 3.24e-08, total: 0.00137, D: 1\n",
      "Epoch 5580, res: 0.00134, data: 2.36e-08, total: 0.00134, D: 1\n",
      "Epoch 5600, res: 0.00129, data: 3.7e-09, total: 0.00129, D: 1\n",
      "Epoch 5620, res: 0.00127, data: 3.4e-10, total: 0.00127, D: 1\n",
      "Epoch 5640, res: 0.00124, data: 2.16e-10, total: 0.00124, D: 1\n",
      "Epoch 5660, res: 0.00122, data: 2.2e-10, total: 0.00122, D: 1\n",
      "Epoch 5680, res: 0.0012, data: 1.84e-10, total: 0.0012, D: 1\n",
      "Epoch 5700, res: 0.00118, data: 1.51e-10, total: 0.00118, D: 1\n",
      "Epoch 5720, res: 0.00116, data: 2.11e-10, total: 0.00116, D: 1\n",
      "Epoch 5740, res: 0.00114, data: 2.08e-09, total: 0.00114, D: 1\n",
      "Epoch 5760, res: 0.00674, data: 5.06e-06, total: 0.00674, D: 1\n",
      "Epoch 5780, res: 0.00156, data: 4.24e-07, total: 0.00156, D: 1\n",
      "Epoch 5800, res: 0.0011, data: 1.31e-08, total: 0.0011, D: 1\n",
      "Epoch 5820, res: 0.00107, data: 4.12e-09, total: 0.00107, D: 1\n",
      "Epoch 5840, res: 0.00105, data: 1.77e-10, total: 0.00105, D: 1\n",
      "Epoch 5860, res: 0.00103, data: 9.52e-10, total: 0.00103, D: 1\n",
      "Epoch 5880, res: 0.00101, data: 3e-10, total: 0.00101, D: 1\n",
      "Stop due to loss tolerance\n",
      "Epoch 5894, res: 0.001, data: 1.01e-10, total: 0.001, D: 1\n"
     ]
    }
   ],
   "source": [
    "trainer.train()"
   ]
  },
  {
   "cell_type": "code",
   "execution_count": 33,
   "metadata": {},
   "outputs": [],
   "source": [
    "lora_state_dict = get_lora_state_dict(model)"
   ]
  },
  {
   "cell_type": "code",
   "execution_count": 34,
   "metadata": {},
   "outputs": [
    {
     "name": "stdout",
     "output_type": "stream",
     "text": [
      "input_layer.parametrizations.weight.0.lora_A torch.Size([4, 64])\n",
      "input_layer.parametrizations.weight.0.lora_B torch.Size([64, 4])\n",
      "hidden_layers.0.parametrizations.weight.0.lora_A torch.Size([4, 64])\n",
      "hidden_layers.0.parametrizations.weight.0.lora_B torch.Size([64, 4])\n",
      "hidden_layers.1.parametrizations.weight.0.lora_A torch.Size([4, 64])\n",
      "hidden_layers.1.parametrizations.weight.0.lora_B torch.Size([64, 4])\n",
      "output_layer.parametrizations.weight.0.lora_A torch.Size([4, 64])\n",
      "output_layer.parametrizations.weight.0.lora_B torch.Size([1, 4])\n"
     ]
    }
   ],
   "source": [
    "for k in lora_state_dict.keys():\n",
    "    print(k, lora_state_dict[k].shape)"
   ]
  },
  {
   "cell_type": "code",
   "execution_count": 35,
   "metadata": {},
   "outputs": [],
   "source": [
    "merge_lora(model)"
   ]
  },
  {
   "cell_type": "code",
   "execution_count": 53,
   "metadata": {},
   "outputs": [],
   "source": [
    "remove_lora(model)\n",
    "add_lora_by_name(model, ['input_layer','hidden_layers','output_layer'])\n",
    "_ = model.load_state_dict(lora_state_dict, strict=False)\n",
    "merge_lora(model)"
   ]
  },
  {
   "cell_type": "code",
   "execution_count": 51,
   "metadata": {},
   "outputs": [],
   "source": [
    "from PlotHelper import *"
   ]
  },
  {
   "cell_type": "code",
   "execution_count": 54,
   "metadata": {},
   "outputs": [
    {
     "data": {
      "text/plain": [
       "(<Figure size 640x480 with 1 Axes>, <Axes: title={'center': 'final D: 1.000'}>)"
      ]
     },
     "execution_count": 54,
     "metadata": {},
     "output_type": "execute_result"
    },
    {
     "data": {
      "image/png": "[encoded data removed]",
      "text/plain": [
       "<Figure size 640x480 with 1 Axes>"
      ]
     },
     "metadata": {},
     "output_type": "display_data"
    }
   ],
   "source": [
    "\n",
    "ph = PlotHelper(pde, dataset, yessave=False, exact_D=pde.exact_D)\n",
    "ph.plot_prediction(model)"
   ]
  },
  {
   "cell_type": "code",
   "execution_count": null,
   "metadata": {},
   "outputs": [],
   "source": [
    "model2, opt = load_model(exp_name, name)\n",
    "model2.freeze_layers_except(1)"
   ]
  },
  {
   "cell_type": "code",
   "execution_count": null,
   "metadata": {},
   "outputs": [],
   "source": [
    "lc = {}\n",
    "lc['forward'] = lossCollection(model2, pde, dataset, model2.param_net, optim.Adam, loss_pde_opts)\n",
    "\n",
    "\n",
    "\n",
    "estop = EarlyStopping(**optobj.opts['train_opts'])\n",
    "trainer2 = Trainer(optsobj.opts, model2, pde, dataset, lc)\n",
    "trainer2.train()"
   ]
  },
  {
   "cell_type": "markdown",
   "metadata": {},
   "source": []
  },
  {
   "cell_type": "code",
   "execution_count": null,
   "metadata": {},
   "outputs": [],
   "source": [
    "\n",
    "ph.plot_prediction(model2)"
   ]
  },
  {
   "cell_type": "code",
   "execution_count": null,
   "metadata": {},
   "outputs": [],
   "source": []
  }
 ],
 "metadata": {
  "kernelspec": {
   "display_name": "torch2",
   "language": "python",
   "name": "python3"
  },
  "language_info": {
   "codemirror_mode": {
    "name": "ipython",
    "version": 3
   },
   "file_extension": ".py",
   "mimetype": "text/x-python",
   "name": "python",
   "nbconvert_exporter": "python",
   "pygments_lexer": "ipython3",
   "version": "3.11.5"
  }
 },
 "nbformat": 4,
 "nbformat_minor": 2
}
